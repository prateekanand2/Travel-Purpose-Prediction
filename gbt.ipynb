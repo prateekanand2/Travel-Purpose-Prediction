{
 "cells": [
  {
   "cell_type": "code",
   "execution_count": 103,
   "metadata": {},
   "outputs": [],
   "source": [
    "import numpy as np\n",
    "import pandas as pd"
   ]
  },
  {
   "cell_type": "code",
   "execution_count": 104,
   "metadata": {},
   "outputs": [
    {
     "name": "stdout",
     "output_type": "stream",
     "text": [
      "    HOUSEID  PERSONID  TDTRPNUM  STRTTIME  ENDTIME  TRVLCMIN  TRPMILES  TRPTRANS  TRPACCMP  TRPHHACC  VEHID  TRWAITTM  NUMTRANS  TRACCTM  DROP_PRK  TREGRTM  WHODROVE  WHYFROM  LOOP_TRIP  TRPHHVEH  HHMEMDRV  HH_ONTD  NONHHCNT  NUMONTRP  PSGR_FLG  PUBTRANS TRIPPURP  DWELTIME  TDWKND  VMT_MILE  DRVR_FLG  WHYTRP1S  ONTD_P1  ONTD_P2  ONTD_P3  ONTD_P4  ONTD_P5  ONTD_P6  ONTD_P7  ONTD_P8  ONTD_P9  ONTD_P10  ONTD_P11  ONTD_P12  ONTD_P13      TDCASEID  TRACC_WLK  TRACC_POV  TRACC_BUS  TRACC_CRL  TRACC_SUB  TRACC_OTH  TREGR_WLK  TREGR_POV  TREGR_BUS  TREGR_CRL  TREGR_SUB  TREGR_OTH  WHYTO  TRAVDAY  HOMEOWN  HHSIZE  HHVEHCNT  HHFAMINC  DRVRCNT HHSTATE  HHSTFIPS  NUMADLT  WRKCOUNT  TDAYDATE  HHRESP  LIF_CYC  MSACAT  MSASIZE  RAIL  URBAN  URBANSIZE  URBRUR  GASPRICE  CENSUS_D  CENSUS_R  CDIVMSAR  HH_RACE  HH_HISP HH_CBSA  SMPLSRCE  R_AGE  EDUC  R_SEX  PRMACT  PROXY  WORKER  DRIVER      WTTRDFIN  WHYTRP90   TRPMILAD  R_AGE_IMP  R_SEX_IMP  VEHTYPE OBHUR DBHUR  OTHTNRNT  OTPPOPDN  OTRESDN  OTEEMPDN  OBHTNRNT  OBPPOPDN  OBRESDN  DTHTNRNT  DTPPOPDN  DTRESDN  DTEEMPDN  DBHTNRNT  DBPPOPDN  DBRESDN\n",
      "0  30000007         1         1      1000     1015        15     5.244         3         0         0      3        -1        -1       -1        -1       -1         1        1          2         1         1        1         0         1         2         2      HBO       295       2     5.244         1        20        1        2        2       -1       -1       -1       -1       -1       -1        -1        -1        -1        -1  300000070101         -1         -1         -1         -1         -1         -1         -1         -1         -1         -1         -1         -1     19        2        1       3         5         7        3      NC        37        3         1    201608       1       10       3        1     2      1          1       1     228.4         5         3        53        2        2   XXXXX         2     67     3      2       6      1       2       1  75441.905796         5   5.847584         67          2        1     T     T        50      1500      750       750        20       750      300        50       750      300       350        30       300      300\n",
      "1  30000007         1         2      1510     1530        20     5.149         3         0         0      3        -1        -1       -1        -1       -1         1       19          2         1         1        1         0         1         2         2      HBO        -9       2     5.149         1         1        1        2        2       -1       -1       -1       -1       -1       -1        -1        -1        -1        -1  300000070102         -1         -1         -1         -1         -1         -1         -1         -1         -1         -1         -1         -1      1        2        1       3         5         7        3      NC        37        3         1    201608       1       10       3        1     2      1          1       1     228.4         5         3        53        2        2   XXXXX         2     67     3      2       6      1       2       1  75441.905796         5   5.741650         67          2        1     T     T        50       750      300       350        30       300      300        50      1500      750       750        20       750      300\n",
      "2  30000007         2         1       700      900       120    84.004         6         0         0      5        -1        -1       -1        -1       -1         2        3          2         1         1        1         0         1         2         2      HBW       540       2    84.004         1         1        2        1        2       -1       -1       -1       -1       -1       -1        -1        -1        -1        -1  300000070201         -1         -1         -1         -1         -1         -1         -1         -1         -1         -1         -1         -1      1        2        1       3         5         7        3      NC        37        3         1    201608       1       10       3        1     2      1          1       1     228.4         5         3        53        2        2   XXXXX         2     66     3      1       1      2       1       1  71932.645806         1  90.178294         66          1        4     S     T        40      1500      750       750        40      1500      750        50      1500      750       750        20       750      300\n",
      "3  30000007         2         2      1800     2030       150    81.628         6         0         0      5        -1        -1       -1        -1       -1         2        1          2         1         1        1         0         1         2         2      HBW        -9       2    81.628         1        10        2        1        2       -1       -1       -1       -1       -1       -1        -1        -1        -1        -1  300000070202         -1         -1         -1         -1         -1         -1         -1         -1         -1         -1         -1         -1      3        2        1       3         5         7        3      NC        37        3         1    201608       1       10       3        1     2      1          1       1     228.4         5         3        53        2        2   XXXXX         2     66     3      1       1      2       1       1  71932.645806         1  87.627658         66          1        4     T     S        50      1500      750       750        20       750      300        40      1500      750       750        40      1500      750\n",
      "4  30000007         3         1       845      900        15     2.250         3         0         0      1        -1        -1       -1        -1       -1         3        1          2         1         1        1         0         1         2         2      HBO       330       2     2.250         1        20        2        2        1       -1       -1       -1       -1       -1       -1        -1        -1        -1        -1  300000070301         -1         -1         -1         -1         -1         -1         -1         -1         -1         -1         -1         -1      8        2        1       3         5         7        3      NC        37        3         1    201608       1       10       3        1     2      1          1       1     228.4         5         3        53        2        2   XXXXX         2     28     2      2       5      2       2       1  80122.686739         5   2.508975         28          2        1     T     T        50      1500      750       750        20       750      300        50       750      300       350        60       750      300\n"
     ]
    }
   ],
   "source": [
    "data = pd.read_csv('/Users/prateekanand/Desktop/CS148/Travel-Purpose-Prediction/csv/trippub.csv')\n",
    "pd.set_option('display.max_columns', None)\n",
    "pd.set_option('display.expand_frame_repr', False)\n",
    "print(data.head())"
   ]
  },
  {
   "cell_type": "markdown",
   "metadata": {},
   "source": [
    "Preprocessing"
   ]
  },
  {
   "cell_type": "code",
   "execution_count": 105,
   "metadata": {},
   "outputs": [
    {
     "name": "stdout",
     "output_type": "stream",
     "text": [
      "['HHSTATE', 'OBHUR', 'DBHUR']\n",
      "[61, 93, 94]\n",
      "    HOUSEID  PERSONID  TDTRPNUM  STRTTIME  ENDTIME  TRVLCMIN  TRPMILES  TRPTRANS  TRPACCMP  TRPHHACC  VEHID  TRWAITTM  NUMTRANS  TRACCTM  DROP_PRK  TREGRTM  WHODROVE  LOOP_TRIP  TRPHHVEH  HHMEMDRV  HH_ONTD  NONHHCNT  NUMONTRP  PSGR_FLG  PUBTRANS  DWELTIME  TDWKND  VMT_MILE  DRVR_FLG  ONTD_P1  ONTD_P2  ONTD_P3  ONTD_P4  ONTD_P5  ONTD_P6  ONTD_P7  ONTD_P8  ONTD_P9  ONTD_P10  ONTD_P11  ONTD_P12  ONTD_P13      TDCASEID  TRACC_WLK  TRACC_POV  TRACC_BUS  TRACC_CRL  TRACC_SUB  TRACC_OTH  TREGR_WLK  TREGR_POV  TREGR_BUS  TREGR_CRL  TREGR_SUB  TREGR_OTH  TRAVDAY  HOMEOWN  HHSIZE  HHVEHCNT  HHFAMINC  DRVRCNT HHSTATE  HHSTFIPS  NUMADLT  WRKCOUNT  TDAYDATE  HHRESP  LIF_CYC  MSACAT  MSASIZE  RAIL  URBAN  URBANSIZE  URBRUR  GASPRICE  CENSUS_D  CENSUS_R  CDIVMSAR  HH_RACE  HH_HISP  SMPLSRCE  R_AGE  EDUC  R_SEX  PRMACT  PROXY  WORKER  DRIVER      WTTRDFIN   TRPMILAD  R_AGE_IMP  R_SEX_IMP  VEHTYPE OBHUR DBHUR  OTHTNRNT  OTPPOPDN  OTRESDN  OTEEMPDN  OBHTNRNT  OBPPOPDN  OBRESDN  DTHTNRNT  DTPPOPDN  DTRESDN  DTEEMPDN  DBHTNRNT  DBPPOPDN  DBRESDN\n",
      "0  30000007         1         1      1000     1015        15     5.244         3         0         0      3        -1        -1       -1        -1       -1         1          2         1         1        1         0         1         2         2       295       2     5.244         1        1        2        2       -1       -1       -1       -1       -1       -1        -1        -1        -1        -1  300000070101         -1         -1         -1         -1         -1         -1         -1         -1         -1         -1         -1         -1        2        1       3         5         7        3      NC        37        3         1    201608       1       10       3        1     2      1          1       1     228.4         5         3        53        2        2         2     67     3      2       6      1       2       1  75441.905796   5.847584         67          2        1     T     T        50      1500      750       750        20       750      300        50       750      300       350        30       300      300\n",
      "1  30000007         1         2      1510     1530        20     5.149         3         0         0      3        -1        -1       -1        -1       -1         1          2         1         1        1         0         1         2         2        -9       2     5.149         1        1        2        2       -1       -1       -1       -1       -1       -1        -1        -1        -1        -1  300000070102         -1         -1         -1         -1         -1         -1         -1         -1         -1         -1         -1         -1        2        1       3         5         7        3      NC        37        3         1    201608       1       10       3        1     2      1          1       1     228.4         5         3        53        2        2         2     67     3      2       6      1       2       1  75441.905796   5.741650         67          2        1     T     T        50       750      300       350        30       300      300        50      1500      750       750        20       750      300\n",
      "2  30000007         2         1       700      900       120    84.004         6         0         0      5        -1        -1       -1        -1       -1         2          2         1         1        1         0         1         2         2       540       2    84.004         1        2        1        2       -1       -1       -1       -1       -1       -1        -1        -1        -1        -1  300000070201         -1         -1         -1         -1         -1         -1         -1         -1         -1         -1         -1         -1        2        1       3         5         7        3      NC        37        3         1    201608       1       10       3        1     2      1          1       1     228.4         5         3        53        2        2         2     66     3      1       1      2       1       1  71932.645806  90.178294         66          1        4     S     T        40      1500      750       750        40      1500      750        50      1500      750       750        20       750      300\n",
      "3  30000007         2         2      1800     2030       150    81.628         6         0         0      5        -1        -1       -1        -1       -1         2          2         1         1        1         0         1         2         2        -9       2    81.628         1        2        1        2       -1       -1       -1       -1       -1       -1        -1        -1        -1        -1  300000070202         -1         -1         -1         -1         -1         -1         -1         -1         -1         -1         -1         -1        2        1       3         5         7        3      NC        37        3         1    201608       1       10       3        1     2      1          1       1     228.4         5         3        53        2        2         2     66     3      1       1      2       1       1  71932.645806  87.627658         66          1        4     T     S        50      1500      750       750        20       750      300        40      1500      750       750        40      1500      750\n",
      "4  30000007         3         1       845      900        15     2.250         3         0         0      1        -1        -1       -1        -1       -1         3          2         1         1        1         0         1         2         2       330       2     2.250         1        2        2        1       -1       -1       -1       -1       -1       -1        -1        -1        -1        -1  300000070301         -1         -1         -1         -1         -1         -1         -1         -1         -1         -1         -1         -1        2        1       3         5         7        3      NC        37        3         1    201608       1       10       3        1     2      1          1       1     228.4         5         3        53        2        2         2     28     2      2       5      2       2       1  80122.686739   2.508975         28          2        1     T     T        50      1500      750       750        20       750      300        50       750      300       350        60       750      300\n"
     ]
    }
   ],
   "source": [
    "# Drop columns related to trip purpose, also drop HH_CBSA because most values are XXXXX and cannot impute those\n",
    "drop = ['WHYTO', 'WHYFROM', 'TRIPPURP', 'WHYTRP1S', 'WHYTRP90', 'HH_CBSA']\n",
    "y = data['WHYTRP1S']\n",
    "X = data.drop(columns=drop, axis=1)\n",
    "\n",
    "categorical_cols = X.select_dtypes(include=['object']).columns.tolist()\n",
    "print(categorical_cols)\n",
    "\n",
    "categorical_idx = [X.columns.get_loc(col) for col in categorical_cols]\n",
    "print(categorical_idx)\n",
    "\n",
    "print(X.head())"
   ]
  },
  {
   "cell_type": "code",
   "execution_count": 106,
   "metadata": {},
   "outputs": [
    {
     "name": "stdout",
     "output_type": "stream",
     "text": [
      "    HOUSEID  PERSONID  TDTRPNUM  STRTTIME  ENDTIME  TRVLCMIN  TRPMILES  TRPTRANS  TRPACCMP  TRPHHACC  VEHID  TRWAITTM  NUMTRANS  TRACCTM  DROP_PRK  TREGRTM  WHODROVE  LOOP_TRIP  TRPHHVEH  HHMEMDRV  HH_ONTD  NONHHCNT  NUMONTRP  PSGR_FLG  PUBTRANS  DWELTIME  TDWKND  VMT_MILE  DRVR_FLG  ONTD_P1  ONTD_P2  ONTD_P3  ONTD_P4  ONTD_P5  ONTD_P6  ONTD_P7  ONTD_P8  ONTD_P9  ONTD_P10  ONTD_P11  ONTD_P12  ONTD_P13      TDCASEID  TRACC_WLK  TRACC_POV  TRACC_BUS  TRACC_CRL  TRACC_SUB  TRACC_OTH  TREGR_WLK  TREGR_POV  TREGR_BUS  TREGR_CRL  TREGR_SUB  TREGR_OTH  TRAVDAY  HOMEOWN  HHSIZE  HHVEHCNT  HHFAMINC  DRVRCNT HHSTATE  HHSTFIPS  NUMADLT  WRKCOUNT  TDAYDATE  HHRESP  LIF_CYC  MSACAT  MSASIZE  RAIL  URBAN  URBANSIZE  URBRUR  GASPRICE  CENSUS_D  CENSUS_R  CDIVMSAR  HH_RACE  HH_HISP  SMPLSRCE  R_AGE  EDUC  R_SEX  PRMACT  PROXY  WORKER  DRIVER      WTTRDFIN   TRPMILAD  R_AGE_IMP  R_SEX_IMP  VEHTYPE OBHUR DBHUR  OTHTNRNT  OTPPOPDN  OTRESDN  OTEEMPDN  OBHTNRNT  OBPPOPDN  OBRESDN  DTHTNRNT  DTPPOPDN  DTRESDN  DTEEMPDN  DBHTNRNT  DBPPOPDN  DBRESDN\n",
      "0  30000007         1         1      1000     1015      15.0     5.244       3.0       0.0       0.0    3.0       NaN       NaN      NaN       NaN      NaN       1.0          2         1       1.0      1.0       0.0       1.0       2.0         2     295.0       2     5.244       1.0        1      2.0      2.0      NaN      NaN      NaN      NaN      NaN      NaN       NaN       NaN       NaN       NaN  300000070101        NaN        NaN        NaN        NaN        NaN        NaN        NaN        NaN        NaN        NaN        NaN        NaN        2      1.0       3         5       7.0        3      NC        37        3         1    201608       1       10       3        1     2      1          1       1     228.4         5         3        53      2.0      2.0         2   67.0   3.0    2.0     6.0      1     2.0     1.0  75441.905796   5.847584         67          2      1.0     T     T      50.0    1500.0    750.0     750.0      20.0     750.0    300.0      50.0     750.0    300.0     350.0      30.0     300.0    300.0\n",
      "1  30000007         1         2      1510     1530      20.0     5.149       3.0       0.0       0.0    3.0       NaN       NaN      NaN       NaN      NaN       1.0          2         1       1.0      1.0       0.0       1.0       2.0         2       NaN       2     5.149       1.0        1      2.0      2.0      NaN      NaN      NaN      NaN      NaN      NaN       NaN       NaN       NaN       NaN  300000070102        NaN        NaN        NaN        NaN        NaN        NaN        NaN        NaN        NaN        NaN        NaN        NaN        2      1.0       3         5       7.0        3      NC        37        3         1    201608       1       10       3        1     2      1          1       1     228.4         5         3        53      2.0      2.0         2   67.0   3.0    2.0     6.0      1     2.0     1.0  75441.905796   5.741650         67          2      1.0     T     T      50.0     750.0    300.0     350.0      30.0     300.0    300.0      50.0    1500.0    750.0     750.0      20.0     750.0    300.0\n",
      "2  30000007         2         1       700      900     120.0    84.004       6.0       0.0       0.0    5.0       NaN       NaN      NaN       NaN      NaN       2.0          2         1       1.0      1.0       0.0       1.0       2.0         2     540.0       2    84.004       1.0        2      1.0      2.0      NaN      NaN      NaN      NaN      NaN      NaN       NaN       NaN       NaN       NaN  300000070201        NaN        NaN        NaN        NaN        NaN        NaN        NaN        NaN        NaN        NaN        NaN        NaN        2      1.0       3         5       7.0        3      NC        37        3         1    201608       1       10       3        1     2      1          1       1     228.4         5         3        53      2.0      2.0         2   66.0   3.0    1.0     1.0      2     1.0     1.0  71932.645806  90.178294         66          1      4.0     S     T      40.0    1500.0    750.0     750.0      40.0    1500.0    750.0      50.0    1500.0    750.0     750.0      20.0     750.0    300.0\n",
      "3  30000007         2         2      1800     2030     150.0    81.628       6.0       0.0       0.0    5.0       NaN       NaN      NaN       NaN      NaN       2.0          2         1       1.0      1.0       0.0       1.0       2.0         2       NaN       2    81.628       1.0        2      1.0      2.0      NaN      NaN      NaN      NaN      NaN      NaN       NaN       NaN       NaN       NaN  300000070202        NaN        NaN        NaN        NaN        NaN        NaN        NaN        NaN        NaN        NaN        NaN        NaN        2      1.0       3         5       7.0        3      NC        37        3         1    201608       1       10       3        1     2      1          1       1     228.4         5         3        53      2.0      2.0         2   66.0   3.0    1.0     1.0      2     1.0     1.0  71932.645806  87.627658         66          1      4.0     T     S      50.0    1500.0    750.0     750.0      20.0     750.0    300.0      40.0    1500.0    750.0     750.0      40.0    1500.0    750.0\n",
      "4  30000007         3         1       845      900      15.0     2.250       3.0       0.0       0.0    1.0       NaN       NaN      NaN       NaN      NaN       3.0          2         1       1.0      1.0       0.0       1.0       2.0         2     330.0       2     2.250       1.0        2      2.0      1.0      NaN      NaN      NaN      NaN      NaN      NaN       NaN       NaN       NaN       NaN  300000070301        NaN        NaN        NaN        NaN        NaN        NaN        NaN        NaN        NaN        NaN        NaN        NaN        2      1.0       3         5       7.0        3      NC        37        3         1    201608       1       10       3        1     2      1          1       1     228.4         5         3        53      2.0      2.0         2   28.0   2.0    2.0     5.0      2     2.0     1.0  80122.686739   2.508975         28          2      1.0     T     T      50.0    1500.0    750.0     750.0      20.0     750.0    300.0      50.0     750.0    300.0     350.0      60.0     750.0    300.0\n"
     ]
    }
   ],
   "source": [
    "# Invalid/missing values are reported as negative values in the dataframe or the string '-9'\n",
    "X = X.map(lambda x: np.nan if ((isinstance(x, (int, float)) and x < 0) or (isinstance(x, str) and x == '-9')) else x)\n",
    "\n",
    "# Replace these two columns with mode since they are categorical\n",
    "mode = X['OBHUR'].mode()\n",
    "X['OBHUR'].fillna(mode, inplace=True)\n",
    "mode = X['DBHUR'].mode()\n",
    "X['DBHUR'].fillna(mode, inplace=True)\n",
    "\n",
    "print(X.head())"
   ]
  },
  {
   "cell_type": "code",
   "execution_count": 107,
   "metadata": {},
   "outputs": [
    {
     "name": "stdout",
     "output_type": "stream",
     "text": [
      "    HOUSEID  PERSONID  TDTRPNUM  STRTTIME  ENDTIME  TRVLCMIN  TRPMILES  TRPTRANS  TRPACCMP  TRPHHACC  VEHID   TRWAITTM  NUMTRANS   TRACCTM  DROP_PRK    TREGRTM  WHODROVE  LOOP_TRIP  TRPHHVEH  HHMEMDRV  HH_ONTD  NONHHCNT  NUMONTRP  PSGR_FLG  PUBTRANS    DWELTIME  TDWKND  VMT_MILE  DRVR_FLG  ONTD_P1  ONTD_P2  ONTD_P3   ONTD_P4   ONTD_P5   ONTD_P6   ONTD_P7   ONTD_P8   ONTD_P9  ONTD_P10  ONTD_P11  ONTD_P12  ONTD_P13      TDCASEID  TRACC_WLK  TRACC_POV  TRACC_BUS  TRACC_CRL  TRACC_SUB  TRACC_OTH  TREGR_WLK  TREGR_POV  TREGR_BUS  TREGR_CRL  TREGR_SUB  TREGR_OTH  TRAVDAY  HOMEOWN  HHSIZE  HHVEHCNT  HHFAMINC  DRVRCNT HHSTATE  HHSTFIPS  NUMADLT  WRKCOUNT  TDAYDATE  HHRESP  LIF_CYC  MSACAT  MSASIZE  RAIL  URBAN  URBANSIZE  URBRUR  GASPRICE  CENSUS_D  CENSUS_R  CDIVMSAR  HH_RACE  HH_HISP  SMPLSRCE  R_AGE  EDUC  R_SEX  PRMACT  PROXY  WORKER  DRIVER      WTTRDFIN   TRPMILAD  R_AGE_IMP  R_SEX_IMP  VEHTYPE OBHUR DBHUR  OTHTNRNT  OTPPOPDN  OTRESDN  OTEEMPDN  OBHTNRNT  OBPPOPDN  OBRESDN  DTHTNRNT  DTPPOPDN  DTRESDN  DTEEMPDN  DBHTNRNT  DBPPOPDN  DBRESDN\n",
      "0  30000007         1         1      1000     1015      15.0     5.244       3.0       0.0       0.0    3.0  10.517992  0.432307  9.862438  1.374677  12.582844       1.0          2         1       1.0      1.0       0.0       1.0       2.0         2  295.000000       2     5.244       1.0        1      2.0      2.0  1.559052  1.580608  1.607597  1.648399  1.664728  1.692562   1.81401  1.742268      1.96       2.0  300000070101   1.202174   1.920562   1.940217    1.98433   1.967572   1.959692   1.233877   1.956612   1.914674   1.967482   1.952536   1.961413        2      1.0       3         5       7.0        3      NC        37        3         1    201608       1       10       3        1     2      1          1       1     228.4         5         3        53      2.0      2.0         2   67.0   3.0    2.0     6.0      1     2.0     1.0  75441.905796   5.847584         67          2      1.0     T     T      50.0    1500.0    750.0     750.0      20.0     750.0    300.0      50.0     750.0    300.0     350.0      30.0     300.0    300.0\n",
      "1  30000007         1         2      1510     1530      20.0     5.149       3.0       0.0       0.0    3.0  10.517992  0.432307  9.862438  1.374677  12.582844       1.0          2         1       1.0      1.0       0.0       1.0       2.0         2  120.857073       2     5.149       1.0        1      2.0      2.0  1.559052  1.580608  1.607597  1.648399  1.664728  1.692562   1.81401  1.742268      1.96       2.0  300000070102   1.202174   1.920562   1.940217    1.98433   1.967572   1.959692   1.233877   1.956612   1.914674   1.967482   1.952536   1.961413        2      1.0       3         5       7.0        3      NC        37        3         1    201608       1       10       3        1     2      1          1       1     228.4         5         3        53      2.0      2.0         2   67.0   3.0    2.0     6.0      1     2.0     1.0  75441.905796   5.741650         67          2      1.0     T     T      50.0     750.0    300.0     350.0      30.0     300.0    300.0      50.0    1500.0    750.0     750.0      20.0     750.0    300.0\n",
      "2  30000007         2         1       700      900     120.0    84.004       6.0       0.0       0.0    5.0  10.517992  0.432307  9.862438  1.374677  12.582844       2.0          2         1       1.0      1.0       0.0       1.0       2.0         2  540.000000       2    84.004       1.0        2      1.0      2.0  1.559052  1.580608  1.607597  1.648399  1.664728  1.692562   1.81401  1.742268      1.96       2.0  300000070201   1.202174   1.920562   1.940217    1.98433   1.967572   1.959692   1.233877   1.956612   1.914674   1.967482   1.952536   1.961413        2      1.0       3         5       7.0        3      NC        37        3         1    201608       1       10       3        1     2      1          1       1     228.4         5         3        53      2.0      2.0         2   66.0   3.0    1.0     1.0      2     1.0     1.0  71932.645806  90.178294         66          1      4.0     S     T      40.0    1500.0    750.0     750.0      40.0    1500.0    750.0      50.0    1500.0    750.0     750.0      20.0     750.0    300.0\n",
      "3  30000007         2         2      1800     2030     150.0    81.628       6.0       0.0       0.0    5.0  10.517992  0.432307  9.862438  1.374677  12.582844       2.0          2         1       1.0      1.0       0.0       1.0       2.0         2  120.857073       2    81.628       1.0        2      1.0      2.0  1.559052  1.580608  1.607597  1.648399  1.664728  1.692562   1.81401  1.742268      1.96       2.0  300000070202   1.202174   1.920562   1.940217    1.98433   1.967572   1.959692   1.233877   1.956612   1.914674   1.967482   1.952536   1.961413        2      1.0       3         5       7.0        3      NC        37        3         1    201608       1       10       3        1     2      1          1       1     228.4         5         3        53      2.0      2.0         2   66.0   3.0    1.0     1.0      2     1.0     1.0  71932.645806  87.627658         66          1      4.0     T     S      50.0    1500.0    750.0     750.0      20.0     750.0    300.0      40.0    1500.0    750.0     750.0      40.0    1500.0    750.0\n",
      "4  30000007         3         1       845      900      15.0     2.250       3.0       0.0       0.0    1.0  10.517992  0.432307  9.862438  1.374677  12.582844       3.0          2         1       1.0      1.0       0.0       1.0       2.0         2  330.000000       2     2.250       1.0        2      2.0      1.0  1.559052  1.580608  1.607597  1.648399  1.664728  1.692562   1.81401  1.742268      1.96       2.0  300000070301   1.202174   1.920562   1.940217    1.98433   1.967572   1.959692   1.233877   1.956612   1.914674   1.967482   1.952536   1.961413        2      1.0       3         5       7.0        3      NC        37        3         1    201608       1       10       3        1     2      1          1       1     228.4         5         3        53      2.0      2.0         2   28.0   2.0    2.0     5.0      2     2.0     1.0  80122.686739   2.508975         28          2      1.0     T     T      50.0    1500.0    750.0     750.0      20.0     750.0    300.0      50.0     750.0    300.0     350.0      60.0     750.0    300.0\n"
     ]
    }
   ],
   "source": [
    "# Then impute the numerical nan values with mean\n",
    "numerical_cols = X.select_dtypes(include=['number']).columns.tolist()\n",
    "\n",
    "for col in numerical_cols:\n",
    "    mean = X[col].mean()\n",
    "    X[col].fillna(mean, inplace=True)\n",
    "\n",
    "print(X.head())"
   ]
  },
  {
   "cell_type": "code",
   "execution_count": 108,
   "metadata": {},
   "outputs": [
    {
     "name": "stdout",
     "output_type": "stream",
     "text": [
      "(923572, 167)\n",
      "    HOUSEID  PERSONID  TDTRPNUM  STRTTIME  ENDTIME  TRVLCMIN  TRPMILES  TRPTRANS  TRPACCMP  TRPHHACC  VEHID   TRWAITTM  NUMTRANS   TRACCTM  DROP_PRK    TREGRTM  WHODROVE  LOOP_TRIP  TRPHHVEH  HHMEMDRV  HH_ONTD  NONHHCNT  NUMONTRP  PSGR_FLG  PUBTRANS    DWELTIME  TDWKND  VMT_MILE  DRVR_FLG  ONTD_P1  ONTD_P2  ONTD_P3   ONTD_P4   ONTD_P5   ONTD_P6   ONTD_P7   ONTD_P8   ONTD_P9  ONTD_P10  ONTD_P11  ONTD_P12  ONTD_P13      TDCASEID  TRACC_WLK  TRACC_POV  TRACC_BUS  TRACC_CRL  TRACC_SUB  TRACC_OTH  TREGR_WLK  TREGR_POV  TREGR_BUS  TREGR_CRL  TREGR_SUB  TREGR_OTH  TRAVDAY  HOMEOWN  HHSIZE  HHVEHCNT  HHFAMINC  DRVRCNT  HHSTFIPS  NUMADLT  WRKCOUNT  TDAYDATE  HHRESP  LIF_CYC  MSACAT  MSASIZE  RAIL  URBAN  URBANSIZE  URBRUR  GASPRICE  CENSUS_D  CENSUS_R  CDIVMSAR  HH_RACE  HH_HISP  SMPLSRCE  R_AGE  EDUC  R_SEX  PRMACT  PROXY  WORKER  DRIVER      WTTRDFIN   TRPMILAD  R_AGE_IMP  R_SEX_IMP  VEHTYPE  OTHTNRNT  OTPPOPDN  OTRESDN  OTEEMPDN  OBHTNRNT  OBPPOPDN  OBRESDN  DTHTNRNT  DTPPOPDN  DTRESDN  DTEEMPDN  DBHTNRNT  DBPPOPDN  DBRESDN  HHSTATE_AK  HHSTATE_AL  HHSTATE_AR  HHSTATE_AZ  HHSTATE_CA  HHSTATE_CO  HHSTATE_CT  HHSTATE_DC  HHSTATE_DE  HHSTATE_FL  HHSTATE_GA  HHSTATE_HI  HHSTATE_IA  HHSTATE_ID  HHSTATE_IL  HHSTATE_IN  HHSTATE_KS  HHSTATE_KY  HHSTATE_LA  HHSTATE_MA  HHSTATE_MD  HHSTATE_ME  HHSTATE_MI  HHSTATE_MN  HHSTATE_MO  HHSTATE_MS  HHSTATE_MT  HHSTATE_NC  HHSTATE_ND  HHSTATE_NE  HHSTATE_NH  HHSTATE_NJ  HHSTATE_NM  HHSTATE_NV  HHSTATE_NY  HHSTATE_OH  HHSTATE_OK  HHSTATE_OR  HHSTATE_PA  HHSTATE_RI  HHSTATE_SC  HHSTATE_SD  HHSTATE_TN  HHSTATE_TX  HHSTATE_UT  HHSTATE_VA  HHSTATE_VT  HHSTATE_WA  HHSTATE_WI  HHSTATE_WV  HHSTATE_WY  OBHUR_C  OBHUR_R  OBHUR_S  OBHUR_T  OBHUR_U  DBHUR_C  DBHUR_R  DBHUR_S  DBHUR_T  DBHUR_U\n",
      "0  30000007         1         1      1000     1015      15.0     5.244       3.0       0.0       0.0    3.0  10.517992  0.432307  9.862438  1.374677  12.582844       1.0          2         1       1.0      1.0       0.0       1.0       2.0         2  295.000000       2     5.244       1.0        1      2.0      2.0  1.559052  1.580608  1.607597  1.648399  1.664728  1.692562   1.81401  1.742268      1.96       2.0  300000070101   1.202174   1.920562   1.940217    1.98433   1.967572   1.959692   1.233877   1.956612   1.914674   1.967482   1.952536   1.961413        2      1.0       3         5       7.0        3        37        3         1    201608       1       10       3        1     2      1          1       1     228.4         5         3        53      2.0      2.0         2   67.0   3.0    2.0     6.0      1     2.0     1.0  75441.905796   5.847584         67          2      1.0      50.0    1500.0    750.0     750.0      20.0     750.0    300.0      50.0     750.0    300.0     350.0      30.0     300.0    300.0           0           0           0           0           0           0           0           0           0           0           0           0           0           0           0           0           0           0           0           0           0           0           0           0           0           0           0           1           0           0           0           0           0           0           0           0           0           0           0           0           0           0           0           0           0           0           0           0           0           0           0        0        0        0        1        0        0        0        0        1        0\n",
      "1  30000007         1         2      1510     1530      20.0     5.149       3.0       0.0       0.0    3.0  10.517992  0.432307  9.862438  1.374677  12.582844       1.0          2         1       1.0      1.0       0.0       1.0       2.0         2  120.857073       2     5.149       1.0        1      2.0      2.0  1.559052  1.580608  1.607597  1.648399  1.664728  1.692562   1.81401  1.742268      1.96       2.0  300000070102   1.202174   1.920562   1.940217    1.98433   1.967572   1.959692   1.233877   1.956612   1.914674   1.967482   1.952536   1.961413        2      1.0       3         5       7.0        3        37        3         1    201608       1       10       3        1     2      1          1       1     228.4         5         3        53      2.0      2.0         2   67.0   3.0    2.0     6.0      1     2.0     1.0  75441.905796   5.741650         67          2      1.0      50.0     750.0    300.0     350.0      30.0     300.0    300.0      50.0    1500.0    750.0     750.0      20.0     750.0    300.0           0           0           0           0           0           0           0           0           0           0           0           0           0           0           0           0           0           0           0           0           0           0           0           0           0           0           0           1           0           0           0           0           0           0           0           0           0           0           0           0           0           0           0           0           0           0           0           0           0           0           0        0        0        0        1        0        0        0        0        1        0\n",
      "2  30000007         2         1       700      900     120.0    84.004       6.0       0.0       0.0    5.0  10.517992  0.432307  9.862438  1.374677  12.582844       2.0          2         1       1.0      1.0       0.0       1.0       2.0         2  540.000000       2    84.004       1.0        2      1.0      2.0  1.559052  1.580608  1.607597  1.648399  1.664728  1.692562   1.81401  1.742268      1.96       2.0  300000070201   1.202174   1.920562   1.940217    1.98433   1.967572   1.959692   1.233877   1.956612   1.914674   1.967482   1.952536   1.961413        2      1.0       3         5       7.0        3        37        3         1    201608       1       10       3        1     2      1          1       1     228.4         5         3        53      2.0      2.0         2   66.0   3.0    1.0     1.0      2     1.0     1.0  71932.645806  90.178294         66          1      4.0      40.0    1500.0    750.0     750.0      40.0    1500.0    750.0      50.0    1500.0    750.0     750.0      20.0     750.0    300.0           0           0           0           0           0           0           0           0           0           0           0           0           0           0           0           0           0           0           0           0           0           0           0           0           0           0           0           1           0           0           0           0           0           0           0           0           0           0           0           0           0           0           0           0           0           0           0           0           0           0           0        0        0        1        0        0        0        0        0        1        0\n",
      "3  30000007         2         2      1800     2030     150.0    81.628       6.0       0.0       0.0    5.0  10.517992  0.432307  9.862438  1.374677  12.582844       2.0          2         1       1.0      1.0       0.0       1.0       2.0         2  120.857073       2    81.628       1.0        2      1.0      2.0  1.559052  1.580608  1.607597  1.648399  1.664728  1.692562   1.81401  1.742268      1.96       2.0  300000070202   1.202174   1.920562   1.940217    1.98433   1.967572   1.959692   1.233877   1.956612   1.914674   1.967482   1.952536   1.961413        2      1.0       3         5       7.0        3        37        3         1    201608       1       10       3        1     2      1          1       1     228.4         5         3        53      2.0      2.0         2   66.0   3.0    1.0     1.0      2     1.0     1.0  71932.645806  87.627658         66          1      4.0      50.0    1500.0    750.0     750.0      20.0     750.0    300.0      40.0    1500.0    750.0     750.0      40.0    1500.0    750.0           0           0           0           0           0           0           0           0           0           0           0           0           0           0           0           0           0           0           0           0           0           0           0           0           0           0           0           1           0           0           0           0           0           0           0           0           0           0           0           0           0           0           0           0           0           0           0           0           0           0           0        0        0        0        1        0        0        0        1        0        0\n",
      "4  30000007         3         1       845      900      15.0     2.250       3.0       0.0       0.0    1.0  10.517992  0.432307  9.862438  1.374677  12.582844       3.0          2         1       1.0      1.0       0.0       1.0       2.0         2  330.000000       2     2.250       1.0        2      2.0      1.0  1.559052  1.580608  1.607597  1.648399  1.664728  1.692562   1.81401  1.742268      1.96       2.0  300000070301   1.202174   1.920562   1.940217    1.98433   1.967572   1.959692   1.233877   1.956612   1.914674   1.967482   1.952536   1.961413        2      1.0       3         5       7.0        3        37        3         1    201608       1       10       3        1     2      1          1       1     228.4         5         3        53      2.0      2.0         2   28.0   2.0    2.0     5.0      2     2.0     1.0  80122.686739   2.508975         28          2      1.0      50.0    1500.0    750.0     750.0      20.0     750.0    300.0      50.0     750.0    300.0     350.0      60.0     750.0    300.0           0           0           0           0           0           0           0           0           0           0           0           0           0           0           0           0           0           0           0           0           0           0           0           0           0           0           0           1           0           0           0           0           0           0           0           0           0           0           0           0           0           0           0           0           0           0           0           0           0           0           0        0        0        0        1        0        0        0        0        1        0\n"
     ]
    }
   ],
   "source": [
    "# One-hot encode categorical features\n",
    "X = pd.get_dummies(X, columns = categorical_cols)\n",
    "X.replace({True: 1, False: 0}, inplace=True)\n",
    "\n",
    "print(X.shape)\n",
    "print(X.head())"
   ]
  },
  {
   "cell_type": "code",
   "execution_count": 109,
   "metadata": {},
   "outputs": [
    {
     "name": "stdout",
     "output_type": "stream",
     "text": [
      "0         20\n",
      "1          1\n",
      "2          1\n",
      "3         10\n",
      "4         20\n",
      "          ..\n",
      "923567    10\n",
      "923568    50\n",
      "923569    10\n",
      "923570    40\n",
      "923571     1\n",
      "Name: WHYTRP1S, Length: 923572, dtype: int64\n"
     ]
    }
   ],
   "source": [
    "from sklearn.model_selection import train_test_split\n",
    "X_train, X_test, y_train, y_test = train_test_split(X, y, test_size=0.2, random_state=42)"
   ]
  }
 ],
 "metadata": {
  "kernelspec": {
   "display_name": "Python 3",
   "language": "python",
   "name": "python3"
  },
  "language_info": {
   "codemirror_mode": {
    "name": "ipython",
    "version": 3
   },
   "file_extension": ".py",
   "mimetype": "text/x-python",
   "name": "python",
   "nbconvert_exporter": "python",
   "pygments_lexer": "ipython3",
   "version": "3.9.12"
  }
 },
 "nbformat": 4,
 "nbformat_minor": 2
}
